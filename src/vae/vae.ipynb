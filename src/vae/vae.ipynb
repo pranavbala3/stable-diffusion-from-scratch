{
 "cells": [
  {
   "cell_type": "markdown",
   "metadata": {},
   "source": [
    "# VAE from Scratch\n",
    "\n",
    "### Simple example of a VAE using the MNIST dataset"
   ]
  },
  {
   "cell_type": "code",
   "execution_count": 10,
   "metadata": {},
   "outputs": [],
   "source": [
    "import torch\n",
    "import torch.nn.functional as F\n",
    "from torch import nn\n",
    "from torchvision import datasets, transforms\n",
    "import torch.optim as optim\n",
    "import matplotlib.pyplot as plt"
   ]
  },
  {
   "cell_type": "markdown",
   "metadata": {},
   "source": [
    "Here we are downloading the MNIST dataset and creating the training and testing sets along with creating batches of 64. The transform is converting the images from the range [0, 255] to [0, 1]."
   ]
  },
  {
   "cell_type": "code",
   "execution_count": 11,
   "metadata": {},
   "outputs": [
    {
     "name": "stdout",
     "output_type": "stream",
     "text": [
      "Image batch shape: torch.Size([64, 1, 28, 28])\n",
      "Label batch shape: torch.Size([64])\n"
     ]
    }
   ],
   "source": [
    "# Download MNIST\n",
    "transform = transforms.Compose([transforms.ToTensor()])\n",
    "\n",
    "# Download and load the training data\n",
    "trainset = datasets.MNIST(root='../data', train=True, download=True, transform=transform)\n",
    "trainloader = torch.utils.data.DataLoader(trainset, batch_size=64, shuffle=True)\n",
    "\n",
    "# Download and load the test data\n",
    "testset = datasets.MNIST(root='../data', train=False, download=True, transform=transform)\n",
    "testloader = torch.utils.data.DataLoader(testset, batch_size=64, shuffle=False)\n",
    "\n",
    "images, labels = next(iter(trainloader))\n",
    "\n",
    "print(f\"Image batch shape: {images.shape}\")\n",
    "print(f\"Label batch shape: {labels.shape}\")"
   ]
  },
  {
   "cell_type": "markdown",
   "metadata": {},
   "source": [
    "First, we need to calculate the distribution $p_{\\theta}(z|x)$ where x is the input and z is the latent space using parameters $\\theta$. However, this is intractable so the encoder will approximate it, $q_{\\phi}(z|x)$. This is what we are doing in the encoder - learning $\\mu$ and $\\sigma$ parameters to best approximate the actual latent space. The encoder architecture is simple - a few convolution layers followed by fully connected layers to get the mean and log variance.\n",
    "\n",
    "The decoder is simply going from the latent space back to the original image: $p(x|z)$. This also includes convolutional layers upsampling the latent space to match the original input dimensions."
   ]
  },
  {
   "cell_type": "code",
   "execution_count": 12,
   "metadata": {},
   "outputs": [],
   "source": [
    "# input channels --> latent dimensions\n",
    "class Encoder(nn.Module):\n",
    "    def __init__(self, input_channels, latent_dim):\n",
    "        super(Encoder, self).__init__()\n",
    "        self.conv1 = nn.Conv2d(input_channels, 32, kernel_size=3, stride=2, padding=1)\n",
    "        self.conv2 = nn.Conv2d(32, 64, kernel_size=3, stride=2, padding=1)\n",
    "        self.conv3 = nn.Conv2d(64, 128, kernel_size=3, stride=2, padding=1)\n",
    "        self.flatten = nn.Flatten()\n",
    "        self.fc_mu = nn.Linear(128 * 4 * 4, latent_dim)\n",
    "        self.fc_logvar = nn.Linear(128 * 4 * 4, latent_dim)\n",
    "\n",
    "    def forward(self, x):\n",
    "        # downsampling using the conv layers\n",
    "        x = F.relu(self.conv1(x))\n",
    "        x = F.relu(self.conv2(x))\n",
    "        x = F.relu(self.conv3(x))\n",
    "\n",
    "        x = self.flatten(x)\n",
    "\n",
    "        z_mu = self.fc_mu(x)\n",
    "        z_logvar = self.fc_logvar(x)\n",
    "        \n",
    "        # parameters that represent the latent space\n",
    "        return z_mu, z_logvar\n",
    "\n",
    "# latent dimensions --> output channels == input_channels\n",
    "class Decoder(nn.Module):\n",
    "    def __init__(self, latent_dim, output_channels):\n",
    "            super(Decoder, self).__init__()\n",
    "            self.fc = nn.Linear(latent_dim, 128 * 7 * 7)\n",
    "            self.conv1 = nn.ConvTranspose2d(128, 64, kernel_size=3, stride=2, padding=1, output_padding=1)\n",
    "            self.conv2 = nn.ConvTranspose2d(64, 32, kernel_size=3, stride=2, padding=1, output_padding=1)\n",
    "            self.conv3 = nn.ConvTranspose2d(32, output_channels, kernel_size=3, stride=1, padding=1)\n",
    "\n",
    "    def forward(self, x):\n",
    "        x = self.fc(x)\n",
    "        x = x.view(-1, 128, 7, 7)\n",
    "\n",
    "        x = F.relu(self.conv1(x))\n",
    "        x = F.relu(self.conv2(x))\n",
    "\n",
    "        x = torch.sigmoid(self.conv3(x))\n",
    "\n",
    "        return x"
   ]
  },
  {
   "cell_type": "markdown",
   "metadata": {},
   "source": [
    "The VAE code is quite simple now that we have defined the encoder and decoder architecture - its simply combining them into one module. However, there is an important factor here. The latent space $z$ is randomly sampled. This poses the question to how we will be able to perform backpropagation. We can utilize the reparameterization trick where we can reform latent space to be a function of some random variable $\\epsilon$. This will allow us to perform backpropagation."
   ]
  },
  {
   "cell_type": "code",
   "execution_count": 13,
   "metadata": {},
   "outputs": [],
   "source": [
    "class VAE(nn.Module):\n",
    "    def __init__(self, encoder, decoder):\n",
    "        super(VAE, self).__init__()\n",
    "        self.encoder = encoder\n",
    "        self.decoder = decoder\n",
    "    \n",
    "    # latent space z is randomly sampled - need to reparameterize \n",
    "    def reparameterize(self, z_mu, z_logvar):\n",
    "        # z = mu + logvar * epsilon\n",
    "        z = z_mu + torch.exp(0.5 * z_logvar) * torch.randn_like(z_logvar)\n",
    "        return z\n",
    "        \n",
    "    def forward(self, x):\n",
    "        z_mu, z_logvar = self.encoder(x)\n",
    "        z = self.reparameterize(z_mu, z_logvar)\n",
    "        reconstructed_x = self.decoder(z)\n",
    "        return reconstructed_x, z_mu, z_logvar"
   ]
  },
  {
   "cell_type": "code",
   "execution_count": 14,
   "metadata": {},
   "outputs": [],
   "source": [
    "channels = 1\n",
    "latent_dim = 20\n",
    "encoder = Encoder(channels, latent_dim)\n",
    "decoder = Decoder(latent_dim, channels)\n",
    "\n",
    "vae = VAE(encoder, decoder)"
   ]
  },
  {
   "cell_type": "markdown",
   "metadata": {},
   "source": [
    "I am using the loss formula as defined by Kingma & Weilling which essentially is the following: difference between original image and reconstructed + KL divergence between p(z|x) and prior p(z) (assume to follow a normal distribution)"
   ]
  },
  {
   "cell_type": "code",
   "execution_count": 15,
   "metadata": {},
   "outputs": [
    {
     "name": "stdout",
     "output_type": "stream",
     "text": [
      "Epoch [1/10], Batch [100/938], Loss: 25740.2344\n",
      "Epoch [1/10], Batch [200/938], Loss: 14759.5049\n",
      "Epoch [1/10], Batch [300/938], Loss: 13623.8291\n",
      "Epoch [1/10], Batch [400/938], Loss: 12560.2070\n",
      "Epoch [1/10], Batch [500/938], Loss: 11482.4238\n",
      "Epoch [1/10], Batch [600/938], Loss: 10501.6113\n",
      "Epoch [1/10], Batch [700/938], Loss: 9840.4307\n",
      "Epoch [1/10], Batch [800/938], Loss: 9411.4316\n",
      "Epoch [1/10], Batch [900/938], Loss: 9076.8496\n",
      "Epoch [2/10], Batch [100/938], Loss: 8661.5820\n",
      "Epoch [2/10], Batch [200/938], Loss: 8388.5967\n",
      "Epoch [2/10], Batch [300/938], Loss: 8307.9307\n",
      "Epoch [2/10], Batch [400/938], Loss: 8164.6377\n",
      "Epoch [2/10], Batch [500/938], Loss: 8029.1265\n",
      "Epoch [2/10], Batch [600/938], Loss: 7948.8511\n",
      "Epoch [2/10], Batch [700/938], Loss: 7864.0425\n",
      "Epoch [2/10], Batch [800/938], Loss: 7778.6479\n",
      "Epoch [2/10], Batch [900/938], Loss: 7709.3564\n",
      "Epoch [3/10], Batch [100/938], Loss: 7569.9717\n",
      "Epoch [3/10], Batch [200/938], Loss: 7575.5142\n",
      "Epoch [3/10], Batch [300/938], Loss: 7495.7202\n",
      "Epoch [3/10], Batch [400/938], Loss: 7463.1943\n",
      "Epoch [3/10], Batch [500/938], Loss: 7445.7368\n",
      "Epoch [3/10], Batch [600/938], Loss: 7412.9863\n",
      "Epoch [3/10], Batch [700/938], Loss: 7354.3423\n",
      "Epoch [3/10], Batch [800/938], Loss: 7329.1626\n",
      "Epoch [3/10], Batch [900/938], Loss: 7320.4575\n",
      "Epoch [4/10], Batch [100/938], Loss: 7214.0874\n",
      "Epoch [4/10], Batch [200/938], Loss: 7215.7896\n",
      "Epoch [4/10], Batch [300/938], Loss: 7220.1113\n",
      "Epoch [4/10], Batch [400/938], Loss: 7203.2856\n",
      "Epoch [4/10], Batch [500/938], Loss: 7150.0400\n",
      "Epoch [4/10], Batch [600/938], Loss: 7138.3120\n",
      "Epoch [4/10], Batch [700/938], Loss: 7172.3691\n",
      "Epoch [4/10], Batch [800/938], Loss: 7102.9956\n",
      "Epoch [4/10], Batch [900/938], Loss: 7099.2100\n",
      "Epoch [5/10], Batch [100/938], Loss: 7068.4863\n",
      "Epoch [5/10], Batch [200/938], Loss: 7061.0967\n",
      "Epoch [5/10], Batch [300/938], Loss: 7056.2617\n",
      "Epoch [5/10], Batch [400/938], Loss: 7037.3975\n",
      "Epoch [5/10], Batch [500/938], Loss: 6984.8374\n",
      "Epoch [5/10], Batch [600/938], Loss: 6985.6494\n",
      "Epoch [5/10], Batch [700/938], Loss: 6964.6235\n",
      "Epoch [5/10], Batch [800/938], Loss: 6988.4395\n",
      "Epoch [5/10], Batch [900/938], Loss: 6946.6221\n",
      "Epoch [6/10], Batch [100/938], Loss: 6928.4463\n",
      "Epoch [6/10], Batch [200/938], Loss: 6954.7920\n",
      "Epoch [6/10], Batch [300/938], Loss: 6921.2812\n",
      "Epoch [6/10], Batch [400/938], Loss: 6959.7876\n",
      "Epoch [6/10], Batch [500/938], Loss: 6923.4692\n",
      "Epoch [6/10], Batch [600/938], Loss: 6906.0371\n",
      "Epoch [6/10], Batch [700/938], Loss: 6897.4785\n",
      "Epoch [6/10], Batch [800/938], Loss: 6869.9902\n",
      "Epoch [6/10], Batch [900/938], Loss: 6876.0371\n",
      "Epoch [7/10], Batch [100/938], Loss: 6854.9956\n",
      "Epoch [7/10], Batch [200/938], Loss: 6845.4941\n",
      "Epoch [7/10], Batch [300/938], Loss: 6859.4414\n",
      "Epoch [7/10], Batch [400/938], Loss: 6838.0508\n",
      "Epoch [7/10], Batch [500/938], Loss: 6835.9126\n",
      "Epoch [7/10], Batch [600/938], Loss: 6864.2007\n",
      "Epoch [7/10], Batch [700/938], Loss: 6821.1787\n",
      "Epoch [7/10], Batch [800/938], Loss: 6827.2881\n",
      "Epoch [7/10], Batch [900/938], Loss: 6846.0288\n",
      "Epoch [8/10], Batch [100/938], Loss: 6820.6948\n",
      "Epoch [8/10], Batch [200/938], Loss: 6785.5059\n",
      "Epoch [8/10], Batch [300/938], Loss: 6809.1313\n",
      "Epoch [8/10], Batch [400/938], Loss: 6759.1787\n",
      "Epoch [8/10], Batch [500/938], Loss: 6770.3306\n",
      "Epoch [8/10], Batch [600/938], Loss: 6801.5781\n",
      "Epoch [8/10], Batch [700/938], Loss: 6777.0537\n",
      "Epoch [8/10], Batch [800/938], Loss: 6780.3423\n",
      "Epoch [8/10], Batch [900/938], Loss: 6772.1494\n",
      "Epoch [9/10], Batch [100/938], Loss: 6740.2295\n",
      "Epoch [9/10], Batch [200/938], Loss: 6767.1743\n",
      "Epoch [9/10], Batch [300/938], Loss: 6744.6426\n",
      "Epoch [9/10], Batch [400/938], Loss: 6748.7681\n",
      "Epoch [9/10], Batch [500/938], Loss: 6779.2363\n",
      "Epoch [9/10], Batch [600/938], Loss: 6722.0107\n",
      "Epoch [9/10], Batch [700/938], Loss: 6729.0474\n",
      "Epoch [9/10], Batch [800/938], Loss: 6721.3481\n",
      "Epoch [9/10], Batch [900/938], Loss: 6719.2783\n",
      "Epoch [10/10], Batch [100/938], Loss: 6717.3638\n",
      "Epoch [10/10], Batch [200/938], Loss: 6740.8320\n",
      "Epoch [10/10], Batch [300/938], Loss: 6707.1846\n",
      "Epoch [10/10], Batch [400/938], Loss: 6716.4033\n",
      "Epoch [10/10], Batch [500/938], Loss: 6671.5083\n",
      "Epoch [10/10], Batch [600/938], Loss: 6699.7412\n",
      "Epoch [10/10], Batch [700/938], Loss: 6688.3486\n",
      "Epoch [10/10], Batch [800/938], Loss: 6679.4624\n",
      "Epoch [10/10], Batch [900/938], Loss: 6709.8594\n"
     ]
    }
   ],
   "source": [
    "def loss_function(x, reconstructed_x, mu, logvar):\n",
    "    reconstruction_loss = nn.functional.binary_cross_entropy(reconstructed_x, x, reduction='sum')\n",
    "   \n",
    "    # 0.5 * (1 + log(sigma^2) - mu^2 - sigma^2)\n",
    "    kl_loss = -0.5 * torch.sum(1 + logvar - mu.pow(2) - logvar.exp())\n",
    "\n",
    "    return reconstruction_loss + kl_loss\n",
    "\n",
    "optimizer = optim.Adam(vae.parameters(), lr=0.0001)\n",
    "\n",
    "epochs = 10\n",
    "def train():\n",
    "    for epoch in range(epochs):\n",
    "        vae.train()\n",
    "        running_loss = 0\n",
    "        for batch_idx, (x, _) in enumerate(trainloader):\n",
    "\n",
    "            optimizer.zero_grad()\n",
    "\n",
    "            reconstructed_x, mu, logvar = vae(x)\n",
    "            loss = loss_function(x, reconstructed_x, mu, logvar)\n",
    "            running_loss += loss\n",
    "            \n",
    "            loss.backward()\n",
    "            optimizer.step()\n",
    "    \n",
    "            if (batch_idx + 1) % 100 == 0:\n",
    "                    average_loss = running_loss / 100\n",
    "                    print(f'Epoch [{epoch+1}/{epochs}], Batch [{batch_idx+1}/{len(trainloader)}], Loss: {average_loss:.4f}')\n",
    "                    running_loss = 0.0\n",
    "\n",
    "train()"
   ]
  },
  {
   "cell_type": "code",
   "execution_count": 16,
   "metadata": {},
   "outputs": [
    {
     "name": "stdout",
     "output_type": "stream",
     "text": [
      "mu shape: torch.Size([64, 20])\n"
     ]
    },
    {
     "data": {
      "image/png": "[encoded data removed]",
      "text/plain": [
       "<Figure size 2000x400 with 20 Axes>"
      ]
     },
     "metadata": {},
     "output_type": "display_data"
    }
   ],
   "source": [
    "dataiter = iter(testloader)\n",
    "images, _ = next(dataiter)\n",
    "\n",
    "vae.eval()\n",
    "with torch.no_grad():\n",
    "    reconstructed_x, mu, _ = vae(images)\n",
    "\n",
    "print(f\"mu shape: {mu.shape}\")\n",
    "\n",
    "num_images = 10\n",
    "plt.figure(figsize=(20, 4))\n",
    "\n",
    "for i in range(num_images):\n",
    "    # Original images\n",
    "    plt.subplot(2, num_images, i + 1)\n",
    "    plt.imshow(images[i].view(28, 28).cpu().numpy())\n",
    "    plt.title(\"Original\")\n",
    "    plt.axis('off')\n",
    "    \n",
    "    # Reconstructed images\n",
    "    plt.subplot(2, num_images, i + num_images + 1)\n",
    "    plt.imshow(reconstructed_x[i].view(28, 28).cpu().numpy())\n",
    "    plt.title(\"Reconstructed\")\n",
    "    plt.axis('off')\n",
    "\n",
    "plt.show()"
   ]
  },
  {
   "cell_type": "markdown",
   "metadata": {},
   "source": [
    "From comparing the original and reconstructed images, the VAE appears to be able to properly represent the latent space. Although, the reconstructed images appear to be losing some resolution, the numbers are still be reconstructed well."
   ]
  }
 ],
 "metadata": {
  "kernelspec": {
   "display_name": ".venv",
   "language": "python",
   "name": "python3"
  },
  "language_info": {
   "codemirror_mode": {
    "name": "ipython",
    "version": 3
   },
   "file_extension": ".py",
   "mimetype": "text/x-python",
   "name": "python",
   "nbconvert_exporter": "python",
   "pygments_lexer": "ipython3",
   "version": "3.11.5"
  }
 },
 "nbformat": 4,
 "nbformat_minor": 2
}
